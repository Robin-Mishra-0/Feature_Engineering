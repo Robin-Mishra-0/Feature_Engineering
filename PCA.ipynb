{
  "cells": [
    {
      "cell_type": "code",
      "execution_count": null,
      "metadata": {
        "id": "_eAUkZ8j74y2"
      },
      "outputs": [],
      "source": [
        "from sklearn.datasets import load_digits"
      ]
    },
    {
      "cell_type": "code",
      "source": [
        ""
      ],
      "metadata": {
        "id": "HTJejk5gd0o0"
      },
      "execution_count": null,
      "outputs": []
    },
    {
      "cell_type": "code",
      "execution_count": null,
      "metadata": {
        "id": "dPZ7Jx3X74y3"
      },
      "outputs": [],
      "source": [
        "import pandas as pd\n",
        "import numpy as np"
      ]
    },
    {
      "cell_type": "code",
      "execution_count": null,
      "metadata": {
        "id": "vHztWhEh74y3"
      },
      "outputs": [],
      "source": [
        "data = load_digits()"
      ]
    },
    {
      "cell_type": "code",
      "execution_count": null,
      "metadata": {
        "id": "VqoQbRKx74y4"
      },
      "outputs": [],
      "source": [
        "print(data.DESCR)"
      ]
    },
    {
      "cell_type": "code",
      "execution_count": null,
      "metadata": {
        "id": "9NbZd1xd74y4",
        "outputId": "d1c2943e-3f8e-44b4-91ff-731ceaaf2f80"
      },
      "outputs": [
        {
          "data": {
            "text/plain": [
              "((1797, 64), (1797,))"
            ]
          },
          "execution_count": 10,
          "metadata": {},
          "output_type": "execute_result"
        }
      ],
      "source": [
        "features = data.data\n",
        "target = data.target\n",
        "data.target\n",
        "features.shape,target.shape"
      ]
    },
    {
      "cell_type": "code",
      "execution_count": null,
      "metadata": {
        "id": "VeeU2KVT74y5"
      },
      "outputs": [],
      "source": [
        "from sklearn.model_selection import train_test_split"
      ]
    },
    {
      "cell_type": "code",
      "execution_count": null,
      "metadata": {
        "id": "KZLfnL9s74y5",
        "outputId": "a17df93f-264f-4daf-bc14-8e959dfb6fbd"
      },
      "outputs": [
        {
          "name": "stdout",
          "output_type": "stream",
          "text": [
            "(1078, 64)\n",
            "(719, 64)\n",
            "(1078,)\n",
            "(719,)\n"
          ]
        }
      ],
      "source": [
        "X_train, X_test, y_train, y_test = train_test_split(features, target, train_size = 0.6, random_state = 3)\n",
        "print(X_train.shape)\n",
        "print(X_test.shape)\n",
        "print(y_train.shape)\n",
        "print(y_test.shape)"
      ]
    },
    {
      "cell_type": "code",
      "execution_count": null,
      "metadata": {
        "id": "TY430jvr74y5"
      },
      "outputs": [],
      "source": [
        "from sklearn.linear_model import LogisticRegression"
      ]
    },
    {
      "cell_type": "code",
      "execution_count": null,
      "metadata": {
        "id": "hNLf8fRE74y5"
      },
      "outputs": [],
      "source": [
        "my_model = LogisticRegression()"
      ]
    },
    {
      "cell_type": "code",
      "execution_count": null,
      "metadata": {
        "id": "Vf-jDHgZ74y5",
        "outputId": "794e4190-5e9a-4afd-9342-dff219efcf0c"
      },
      "outputs": [
        {
          "name": "stderr",
          "output_type": "stream",
          "text": [
            "/usr/local/lib/python3.7/site-packages/sklearn/linear_model/_logistic.py:765: ConvergenceWarning: lbfgs failed to converge (status=1):\n",
            "STOP: TOTAL NO. of ITERATIONS REACHED LIMIT.\n",
            "\n",
            "Increase the number of iterations (max_iter) or scale the data as shown in:\n",
            "    https://scikit-learn.org/stable/modules/preprocessing.html\n",
            "Please also refer to the documentation for alternative solver options:\n",
            "    https://scikit-learn.org/stable/modules/linear_model.html#logistic-regression\n",
            "  extra_warning_msg=_LOGISTIC_SOLVER_CONVERGENCE_MSG)\n"
          ]
        },
        {
          "data": {
            "text/plain": [
              "LogisticRegression()"
            ]
          },
          "execution_count": 15,
          "metadata": {},
          "output_type": "execute_result"
        }
      ],
      "source": [
        "my_model.fit(X_train,y_train)"
      ]
    },
    {
      "cell_type": "code",
      "execution_count": null,
      "metadata": {
        "id": "q5rkuvWe74y6"
      },
      "outputs": [],
      "source": [
        "preds = my_model.predict(X_test)"
      ]
    },
    {
      "cell_type": "code",
      "execution_count": null,
      "metadata": {
        "id": "4qBPhLXx74y6"
      },
      "outputs": [],
      "source": [
        "from sklearn.metrics import accuracy_score,confusion_matrix"
      ]
    },
    {
      "cell_type": "code",
      "execution_count": null,
      "metadata": {
        "id": "bDGdfPU474y6",
        "outputId": "57dd7ca1-793b-42b7-e45f-85c94b32a5a8"
      },
      "outputs": [
        {
          "name": "stdout",
          "output_type": "stream",
          "text": [
            "0.9582753824756607\n"
          ]
        }
      ],
      "source": [
        "print(accuracy_score(y_test, preds))"
      ]
    },
    {
      "cell_type": "markdown",
      "source": [
        ""
      ],
      "metadata": {
        "id": "G8nGPMh3xIkw"
      }
    },
    {
      "cell_type": "code",
      "execution_count": null,
      "metadata": {
        "id": "DBhPHThR74y6",
        "outputId": "3004156e-adb4-4461-9fb9-3ee1f29c0665"
      },
      "outputs": [
        {
          "name": "stdout",
          "output_type": "stream",
          "text": [
            "[[74  0  0  0  1  0  0  0  0  0]\n",
            " [ 0 72  0  0  0  0  0  0  2  1]\n",
            " [ 0  1 77  0  0  0  0  0  0  0]\n",
            " [ 0  0  2 66  0  0  0  0  1  0]\n",
            " [ 0  4  0  0 79  0  1  1  1  0]\n",
            " [ 0  1  0  0  1 60  0  0  0  2]\n",
            " [ 0  1  0  0  0  1 55  0  1  0]\n",
            " [ 0  0  0  1  0  0  0 73  2  0]\n",
            " [ 0  1  0  0  0  1  0  0 66  0]\n",
            " [ 0  0  0  0  1  1  0  0  1 67]]\n"
          ]
        }
      ],
      "source": [
        "print(confusion_matrix(y_test, preds))6r5r5656"
      ]
    },
    {
      "cell_type": "code",
      "execution_count": null,
      "metadata": {
        "id": "ipee8tfd74y6"
      },
      "outputs": [],
      "source": [
        "from sklearn.decomposition import PCA"
      ]
    },
    {
      "cell_type": "markdown",
      "metadata": {
        "id": "YOd_ek9s74y6"
      },
      "source": [
        "Initially I have 64 dimensions. Now I want to bring it down to 4 dimensions"
      ]
    },
    {
      "cell_type": "code",
      "execution_count": null,
      "metadata": {
        "id": "VLCNi-e274y7"
      },
      "outputs": [],
      "source": [
        "pca = PCA(n_components=15)"
      ]
    },
    {
      "cell_type": "code",
      "execution_count": null,
      "metadata": {
        "id": "_vRwDT2e74y7",
        "outputId": "45ca3131-6d7f-4f28-b917-a0e343449671"
      },
      "outputs": [
        {
          "data": {
            "text/plain": [
              "PCA(n_components=15)"
            ]
          },
          "execution_count": 44,
          "metadata": {},
          "output_type": "execute_result"
        }
      ],
      "source": [
        "pca.fit(X_train)"
      ]
    },
    {
      "cell_type": "code",
      "execution_count": null,
      "metadata": {
        "id": "H5U_gOmm74y8"
      },
      "outputs": [],
      "source": [
        "pca.components_"
      ]
    },
    {
      "cell_type": "code",
      "execution_count": null,
      "metadata": {
        "id": "hs7WBTTZ74y8",
        "outputId": "f11760fe-033b-4017-f84a-4ce43ec029f3"
      },
      "outputs": [
        {
          "data": {
            "text/plain": [
              "array([0.14924092, 0.13473079, 0.1156578 , 0.08302537, 0.06011605,\n",
              "       0.05032773, 0.04284684, 0.03556854, 0.03294893, 0.03039432,\n",
              "       0.02454543, 0.02311797, 0.01912225, 0.01765655, 0.01482858])"
            ]
          },
          "execution_count": 46,
          "metadata": {},
          "output_type": "execute_result"
        }
      ],
      "source": [
        "pca.explained_variance_ratio_"
      ]
    },
    {
      "cell_type": "code",
      "execution_count": null,
      "metadata": {
        "id": "CLO3aHWq74y8"
      },
      "outputs": [],
      "source": [
        "X_train_transformed = pca.transform(X_train)\n",
        "X_test_transformed = pca.transform(X_test)"
      ]
    },
    {
      "cell_type": "code",
      "execution_count": null,
      "metadata": {
        "id": "Hr8g02Jy74y8",
        "outputId": "4a9fa3a1-8962-4d97-9500-abce9541429a"
      },
      "outputs": [
        {
          "data": {
            "text/plain": [
              "((1078, 15), (719, 15))"
            ]
          },
          "execution_count": 48,
          "metadata": {},
          "output_type": "execute_result"
        }
      ],
      "source": [
        "X_train_transformed.shape, X_test_transformed.shape"
      ]
    },
    {
      "cell_type": "code",
      "execution_count": null,
      "metadata": {
        "id": "8W55XI3Q74y8"
      },
      "outputs": [],
      "source": [
        "X_train_transformed"
      ]
    },
    {
      "cell_type": "code",
      "execution_count": null,
      "metadata": {
        "id": "16BUzG8E74y9",
        "outputId": "f57f4dcd-8f8e-47f7-e08d-59c8fac6312d"
      },
      "outputs": [
        {
          "data": {
            "text/plain": [
              "(1078, 64)"
            ]
          },
          "execution_count": 50,
          "metadata": {},
          "output_type": "execute_result"
        }
      ],
      "source": [
        "pca.inverse_transform(X_train_transformed).shape"
      ]
    },
    {
      "cell_type": "code",
      "execution_count": null,
      "metadata": {
        "id": "jWq4VrOc74y9",
        "outputId": "06e9a324-1f4a-4b09-e54a-7595839ceecb"
      },
      "outputs": [
        {
          "name": "stderr",
          "output_type": "stream",
          "text": [
            "/usr/local/lib/python3.7/site-packages/sklearn/linear_model/_logistic.py:765: ConvergenceWarning: lbfgs failed to converge (status=1):\n",
            "STOP: TOTAL NO. of ITERATIONS REACHED LIMIT.\n",
            "\n",
            "Increase the number of iterations (max_iter) or scale the data as shown in:\n",
            "    https://scikit-learn.org/stable/modules/preprocessing.html\n",
            "Please also refer to the documentation for alternative solver options:\n",
            "    https://scikit-learn.org/stable/modules/linear_model.html#logistic-regression\n",
            "  extra_warning_msg=_LOGISTIC_SOLVER_CONVERGENCE_MSG)\n"
          ]
        },
        {
          "data": {
            "text/plain": [
              "LogisticRegression()"
            ]
          },
          "execution_count": 51,
          "metadata": {},
          "output_type": "execute_result"
        }
      ],
      "source": [
        "my_model.fit(X_train_transformed,y_train)"
      ]
    },
    {
      "cell_type": "code",
      "source": [
        ""
      ],
      "metadata": {
        "id": "w6P7dJOxH9LV"
      },
      "execution_count": null,
      "outputs": []
    },
    {
      "cell_type": "code",
      "execution_count": null,
      "metadata": {
        "id": "VG0F37_C74y9"
      },
      "outputs": [],
      "source": [
        "preds = my_model.predict(X_test_transformed)"
      ]
    },
    {
      "cell_type": "code",
      "execution_count": null,
      "metadata": {
        "id": "Bj2RNhBX74y9",
        "outputId": "4fcce20d-07b9-40b6-ab37-20b5c128d377"
      },
      "outputs": [
        {
          "name": "stdout",
          "output_type": "stream",
          "text": [
            "0.9443671766342142\n"
          ]
        }
      ],
      "source": [
        "print(accuracy_score(y_test, preds))"
      ]
    },
    {
      "cell_type": "code",
      "execution_count": null,
      "metadata": {
        "id": "aOII4j5j74y9"
      },
      "outputs": [],
      "source": [
        "from sklearn.datasets import load_breast_cancer"
      ]
    },
    {
      "cell_type": "code",
      "execution_count": null,
      "metadata": {
        "id": "cJ0d1yyn74y9"
      },
      "outputs": [],
      "source": [
        "data = load_breast_cancer()\n",
        "print(data.DESCR)"
      ]
    },
    {
      "cell_type": "code",
      "execution_count": null,
      "metadata": {
        "id": "pJweIoXm74y-"
      },
      "outputs": [],
      "source": [
        ""
      ]
    }
  ],
  "metadata": {
    "kernelspec": {
      "display_name": "Python 3",
      "language": "python",
      "name": "python3"
    },
    "language_info": {
      "codemirror_mode": {
        "name": "ipython",
        "version": 3
      },
      "file_extension": ".py",
      "mimetype": "text/x-python",
      "name": "python",
      "nbconvert_exporter": "python",
      "pygments_lexer": "ipython3",
      "version": "3.7.6"
    },
    "colab": {
      "name": "PCA.ipynb",
      "provenance": []
    }
  },
  "nbformat": 4,
  "nbformat_minor": 0
}